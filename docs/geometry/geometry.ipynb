{
 "cells": [
  {
   "cell_type": "markdown",
   "metadata": {},
   "source": [
    "# Geometry\n",
    "---"
   ]
  },
  {
   "cell_type": "markdown",
   "metadata": {},
   "source": [
    "## Differential operators\n",
    "---\n",
    "\n",
    "Using the `geometry` package, we can conveniently generate the expressions for differential operators in any coordinate system.\n",
    "For instance, in the xCFC scheme, we require the scalar laplacian,\n",
    "$$\n",
    "\\tilde{\\Delta} f\n",
    "$$\n",
    "and the operator,\n",
    "$$\n",
    "\\tilde{\\Delta} X^{i} \\ + \\ \\frac{1}{3} \\, \\tilde{\\nabla}^{i}\\left( \\tilde{\\nabla}_{j} X^{j} \\right)\n",
    "$$\n",
    "where the tilde indicates that we require the operators on the flat background metric. Note that the laplacian acting on a vector is not necessarily equal to the laplacian acting on the vector components!\n",
    "Using the `geometry` package, the expressions for these quatities qould be obtained as follows."
   ]
  },
  {
   "cell_type": "code",
   "execution_count": 3,
   "metadata": {},
   "outputs": [],
   "source": [
    "from sympy import simplify, expand, sin, Array, diff, symbols, Symbol, Eq, Rational, latex"
   ]
  },
  {
   "cell_type": "code",
   "execution_count": 5,
   "metadata": {},
   "outputs": [],
   "source": [
    "# Get the Euclidean 3D geometry in spoherical coordinates (from the examples of predefined geometries)\n",
    "import mileva.geometry.examples as examples\n",
    "geo = examples.Euclidean3dSph()"
   ]
  },
  {
   "cell_type": "code",
   "execution_count": 6,
   "metadata": {},
   "outputs": [
    {
     "data": {
      "text/latex": [
       "$\\displaystyle \\left[\\begin{matrix}1 & 0 & 0\\\\0 & r^{2} & 0\\\\0 & 0 & r^{2} \\sin^{2}{\\left(\\theta \\right)}\\end{matrix}\\right]$"
      ],
      "text/plain": [
       "[[1, 0, 0], [0, r**2, 0], [0, 0, r**2*sin(theta)**2]]"
      ]
     },
     "execution_count": 6,
     "metadata": {},
     "output_type": "execute_result"
    }
   ],
   "source": [
    "# The metric\n",
    "geo.metric"
   ]
  },
  {
   "cell_type": "code",
   "execution_count": 7,
   "metadata": {},
   "outputs": [],
   "source": [
    "# Extract the coordinate symbols of the geometry\n",
    "r, theta, phi = geo.coords"
   ]
  },
  {
   "cell_type": "code",
   "execution_count": 8,
   "metadata": {},
   "outputs": [
    {
     "data": {
      "text/latex": [
       "$\\displaystyle f{\\left(r,\\theta \\right)}$"
      ],
      "text/plain": [
       "f(r, theta)"
      ]
     },
     "execution_count": 8,
     "metadata": {},
     "output_type": "execute_result"
    }
   ],
   "source": [
    "# Define a scalar function f on the geometry\n",
    "# (But only of r and theta, not phi)\n",
    "f = geo.scalar_function('f', args=[r, theta])\n",
    "f"
   ]
  },
  {
   "cell_type": "code",
   "execution_count": 9,
   "metadata": {},
   "outputs": [
    {
     "data": {
      "text/latex": [
       "$\\displaystyle \\left[\\begin{matrix}X_{r}{\\left(r,\\theta \\right)} & X_{\\theta}{\\left(r,\\theta \\right)} & X_{\\phi}{\\left(r,\\theta \\right)}\\end{matrix}\\right]$"
      ],
      "text/plain": [
       "[X_{r}(r, theta), X_{\\theta}(r, theta), X_{\\phi}(r, theta)]"
      ]
     },
     "execution_count": 9,
     "metadata": {},
     "output_type": "execute_result"
    }
   ],
   "source": [
    "# Define a vector function f on the geometry\n",
    "# (But only of r and theta, not phi)\n",
    "X = geo.vector_function('X', args=[r, theta])\n",
    "X"
   ]
  },
  {
   "cell_type": "code",
   "execution_count": 10,
   "metadata": {},
   "outputs": [
    {
     "data": {
      "text/latex": [
       "$\\displaystyle \\frac{\\partial^{2}}{\\partial r^{2}} f{\\left(r,\\theta \\right)} + \\frac{2 \\frac{\\partial}{\\partial r} f{\\left(r,\\theta \\right)}}{r} + \\frac{\\frac{\\partial^{2}}{\\partial \\theta^{2}} f{\\left(r,\\theta \\right)}}{r^{2}} + \\frac{\\cos{\\left(\\theta \\right)} \\frac{\\partial}{\\partial \\theta} f{\\left(r,\\theta \\right)}}{r^{2} \\sin{\\left(\\theta \\right)}}$"
      ],
      "text/plain": [
       "Derivative(f(r, theta), (r, 2)) + 2*Derivative(f(r, theta), r)/r + Derivative(f(r, theta), (theta, 2))/r**2 + cos(theta)*Derivative(f(r, theta), theta)/(r**2*sin(theta))"
      ]
     },
     "execution_count": 10,
     "metadata": {},
     "output_type": "execute_result"
    }
   ],
   "source": [
    "# Expression of the laplacian of a scalar function f\n",
    "lap_f = geo.laplacian(f)\n",
    "lap_f.expand()"
   ]
  },
  {
   "cell_type": "code",
   "execution_count": 11,
   "metadata": {},
   "outputs": [
    {
     "data": {
      "text/latex": [
       "$\\displaystyle \\left[\\begin{matrix}\\frac{\\partial^{2}}{\\partial r^{2}} X_{r}{\\left(r,\\theta \\right)} + \\frac{r \\sin^{2}{\\left(\\theta \\right)} \\frac{\\partial}{\\partial r} X_{r}{\\left(r,\\theta \\right)} + \\left(\\frac{\\partial}{\\partial \\theta} X_{r}{\\left(r,\\theta \\right)} - \\frac{X_{\\theta}{\\left(r,\\theta \\right)}}{r}\\right) \\sin{\\left(\\theta \\right)} \\cos{\\left(\\theta \\right)} - \\frac{r X_{r}{\\left(r,\\theta \\right)} \\sin^{2}{\\left(\\theta \\right)} + X_{\\theta}{\\left(r,\\theta \\right)} \\sin{\\left(\\theta \\right)} \\cos{\\left(\\theta \\right)}}{r}}{r^{2} \\sin^{2}{\\left(\\theta \\right)}} + \\frac{r \\frac{\\partial}{\\partial r} X_{r}{\\left(r,\\theta \\right)} + \\frac{\\partial^{2}}{\\partial \\theta^{2}} X_{r}{\\left(r,\\theta \\right)} - \\frac{r X_{r}{\\left(r,\\theta \\right)} + \\frac{\\partial}{\\partial \\theta} X_{\\theta}{\\left(r,\\theta \\right)}}{r} - \\frac{\\frac{\\partial}{\\partial \\theta} X_{\\theta}{\\left(r,\\theta \\right)}}{r}}{r^{2}} & \\frac{\\partial^{2}}{\\partial r^{2}} X_{\\theta}{\\left(r,\\theta \\right)} - \\frac{\\frac{\\partial}{\\partial r} X_{\\theta}{\\left(r,\\theta \\right)} - \\frac{X_{\\theta}{\\left(r,\\theta \\right)}}{r}}{r} - \\frac{\\frac{\\partial}{\\partial r} X_{\\theta}{\\left(r,\\theta \\right)}}{r} + \\frac{r \\left(\\frac{\\partial}{\\partial r} X_{\\theta}{\\left(r,\\theta \\right)} - \\frac{X_{\\theta}{\\left(r,\\theta \\right)}}{r}\\right) \\sin^{2}{\\left(\\theta \\right)} + \\left(r X_{r}{\\left(r,\\theta \\right)} + \\frac{\\partial}{\\partial \\theta} X_{\\theta}{\\left(r,\\theta \\right)}\\right) \\sin{\\left(\\theta \\right)} \\cos{\\left(\\theta \\right)} - \\frac{\\left(r X_{r}{\\left(r,\\theta \\right)} \\sin^{2}{\\left(\\theta \\right)} + X_{\\theta}{\\left(r,\\theta \\right)} \\sin{\\left(\\theta \\right)} \\cos{\\left(\\theta \\right)}\\right) \\cos{\\left(\\theta \\right)}}{\\sin{\\left(\\theta \\right)}}}{r^{2} \\sin^{2}{\\left(\\theta \\right)}} + \\frac{r \\left(\\frac{\\partial}{\\partial r} X_{\\theta}{\\left(r,\\theta \\right)} - \\frac{X_{\\theta}{\\left(r,\\theta \\right)}}{r}\\right) + r \\left(\\frac{\\partial}{\\partial \\theta} X_{r}{\\left(r,\\theta \\right)} - \\frac{X_{\\theta}{\\left(r,\\theta \\right)}}{r}\\right) + r \\frac{\\partial}{\\partial \\theta} X_{r}{\\left(r,\\theta \\right)} + \\frac{\\partial^{2}}{\\partial \\theta^{2}} X_{\\theta}{\\left(r,\\theta \\right)}}{r^{2}} + \\frac{X_{\\theta}{\\left(r,\\theta \\right)}}{r^{2}} & \\frac{\\partial^{2}}{\\partial r^{2}} X_{\\phi}{\\left(r,\\theta \\right)} - \\frac{\\frac{\\partial}{\\partial r} X_{\\phi}{\\left(r,\\theta \\right)} - \\frac{X_{\\phi}{\\left(r,\\theta \\right)}}{r}}{r} - \\frac{\\frac{\\partial}{\\partial r} X_{\\phi}{\\left(r,\\theta \\right)}}{r} + \\frac{r \\left(\\frac{\\partial}{\\partial r} X_{\\phi}{\\left(r,\\theta \\right)} - \\frac{X_{\\phi}{\\left(r,\\theta \\right)}}{r}\\right) \\sin^{2}{\\left(\\theta \\right)} + \\left(- \\frac{X_{\\phi}{\\left(r,\\theta \\right)} \\cos{\\left(\\theta \\right)}}{\\sin{\\left(\\theta \\right)}} + \\frac{\\partial}{\\partial \\theta} X_{\\phi}{\\left(r,\\theta \\right)}\\right) \\sin{\\left(\\theta \\right)} \\cos{\\left(\\theta \\right)} - X_{\\phi}{\\left(r,\\theta \\right)} \\sin^{2}{\\left(\\theta \\right)} - X_{\\phi}{\\left(r,\\theta \\right)} \\cos^{2}{\\left(\\theta \\right)}}{r^{2} \\sin^{2}{\\left(\\theta \\right)}} + \\frac{r \\left(\\frac{\\partial}{\\partial r} X_{\\phi}{\\left(r,\\theta \\right)} - \\frac{X_{\\phi}{\\left(r,\\theta \\right)}}{r}\\right) - \\frac{\\left(- \\frac{X_{\\phi}{\\left(r,\\theta \\right)} \\cos{\\left(\\theta \\right)}}{\\sin{\\left(\\theta \\right)}} + \\frac{\\partial}{\\partial \\theta} X_{\\phi}{\\left(r,\\theta \\right)}\\right) \\cos{\\left(\\theta \\right)}}{\\sin{\\left(\\theta \\right)}} + X_{\\phi}{\\left(r,\\theta \\right)} + \\frac{X_{\\phi}{\\left(r,\\theta \\right)} \\cos^{2}{\\left(\\theta \\right)}}{\\sin^{2}{\\left(\\theta \\right)}} + \\frac{\\partial^{2}}{\\partial \\theta^{2}} X_{\\phi}{\\left(r,\\theta \\right)} - \\frac{\\cos{\\left(\\theta \\right)} \\frac{\\partial}{\\partial \\theta} X_{\\phi}{\\left(r,\\theta \\right)}}{\\sin{\\left(\\theta \\right)}}}{r^{2}} + \\frac{X_{\\phi}{\\left(r,\\theta \\right)}}{r^{2}}\\end{matrix}\\right]$"
      ],
      "text/plain": [
       "[Derivative(X_{r}(r, theta), (r, 2)) + (r*sin(theta)**2*Derivative(X_{r}(r, theta), r) + (Derivative(X_{r}(r, theta), theta) - X_{\\theta}(r, theta)/r)*sin(theta)*cos(theta) - (r*X_{r}(r, theta)*sin(theta)**2 + X_{\\theta}(r, theta)*sin(theta)*cos(theta))/r)/(r**2*sin(theta)**2) + (r*Derivative(X_{r}(r, theta), r) + Derivative(X_{r}(r, theta), (theta, 2)) - (r*X_{r}(r, theta) + Derivative(X_{\\theta}(r, theta), theta))/r - Derivative(X_{\\theta}(r, theta), theta)/r)/r**2, Derivative(X_{\\theta}(r, theta), (r, 2)) - (Derivative(X_{\\theta}(r, theta), r) - X_{\\theta}(r, theta)/r)/r - Derivative(X_{\\theta}(r, theta), r)/r + (r*(Derivative(X_{\\theta}(r, theta), r) - X_{\\theta}(r, theta)/r)*sin(theta)**2 + (r*X_{r}(r, theta) + Derivative(X_{\\theta}(r, theta), theta))*sin(theta)*cos(theta) - (r*X_{r}(r, theta)*sin(theta)**2 + X_{\\theta}(r, theta)*sin(theta)*cos(theta))*cos(theta)/sin(theta))/(r**2*sin(theta)**2) + (r*(Derivative(X_{\\theta}(r, theta), r) - X_{\\theta}(r, theta)/r) + r*(Derivative(X_{r}(r, theta), theta) - X_{\\theta}(r, theta)/r) + r*Derivative(X_{r}(r, theta), theta) + Derivative(X_{\\theta}(r, theta), (theta, 2)))/r**2 + X_{\\theta}(r, theta)/r**2, Derivative(X_{\\phi}(r, theta), (r, 2)) - (Derivative(X_{\\phi}(r, theta), r) - X_{\\phi}(r, theta)/r)/r - Derivative(X_{\\phi}(r, theta), r)/r + (r*(Derivative(X_{\\phi}(r, theta), r) - X_{\\phi}(r, theta)/r)*sin(theta)**2 + (-X_{\\phi}(r, theta)*cos(theta)/sin(theta) + Derivative(X_{\\phi}(r, theta), theta))*sin(theta)*cos(theta) - X_{\\phi}(r, theta)*sin(theta)**2 - X_{\\phi}(r, theta)*cos(theta)**2)/(r**2*sin(theta)**2) + (r*(Derivative(X_{\\phi}(r, theta), r) - X_{\\phi}(r, theta)/r) - (-X_{\\phi}(r, theta)*cos(theta)/sin(theta) + Derivative(X_{\\phi}(r, theta), theta))*cos(theta)/sin(theta) + X_{\\phi}(r, theta) + X_{\\phi}(r, theta)*cos(theta)**2/sin(theta)**2 + Derivative(X_{\\phi}(r, theta), (theta, 2)) - cos(theta)*Derivative(X_{\\phi}(r, theta), theta)/sin(theta))/r**2 + X_{\\phi}(r, theta)/r**2]"
      ]
     },
     "execution_count": 11,
     "metadata": {},
     "output_type": "execute_result"
    }
   ],
   "source": [
    "# Expression of the laplacian of a vector function X\n",
    "lap_X = geo.laplacian(X)\n",
    "lap_X"
   ]
  },
  {
   "cell_type": "markdown",
   "metadata": {},
   "source": [
    "In `gmunu` the metric equations are solved in an orthonormal frame. The transformation can be achieved by making the followijng substitution."
   ]
  },
  {
   "cell_type": "code",
   "execution_count": 12,
   "metadata": {},
   "outputs": [],
   "source": [
    "A = geo.vector_function('A', args=[r, theta])\n",
    "\n",
    "orthonormal_subs = {\n",
    "    X[0]:   A[0],\n",
    "    X[1]: r*A[1],\n",
    "    X[2]: r*sin(theta)*A[2],\n",
    "}"
   ]
  },
  {
   "cell_type": "markdown",
   "metadata": {},
   "source": [
    "However, note that the components of the resulting vector laplacian also have to be adjusted to the new basis vectors."
   ]
  },
  {
   "cell_type": "code",
   "execution_count": 13,
   "metadata": {},
   "outputs": [],
   "source": [
    "lap_A = Array([\n",
    "    lap_X[0].subs(orthonormal_subs),\n",
    "    lap_X[1].subs(orthonormal_subs) / r,\n",
    "    lap_X[2].subs(orthonormal_subs) / (r*sin(theta))\n",
    "])"
   ]
  },
  {
   "cell_type": "markdown",
   "metadata": {},
   "source": [
    "The components of the laplacian of a vector function (with scalar laplacian of the component subtracted) read:"
   ]
  },
  {
   "cell_type": "code",
   "execution_count": 14,
   "metadata": {},
   "outputs": [
    {
     "data": {
      "text/latex": [
       "$\\displaystyle - \\frac{2 A_{\\theta}{\\left(r,\\theta \\right)} \\cos{\\left(\\theta \\right)}}{r^{2} \\sin{\\left(\\theta \\right)}} - \\frac{2 A_{r}{\\left(r,\\theta \\right)}}{r^{2}} - \\frac{2 \\frac{\\partial}{\\partial \\theta} r A_{\\theta}{\\left(r,\\theta \\right)}}{r^{3}}$"
      ],
      "text/plain": [
       "-2*A_{\\theta}(r, theta)*cos(theta)/(r**2*sin(theta)) - 2*A_{r}(r, theta)/r**2 - 2*Derivative(r*A_{\\theta}(r, theta), theta)/r**3"
      ]
     },
     "execution_count": 14,
     "metadata": {},
     "output_type": "execute_result"
    }
   ],
   "source": [
    "(lap_A[0] - geo.laplacian(A[0])).expand(simplify=True)"
   ]
  },
  {
   "cell_type": "code",
   "execution_count": 15,
   "metadata": {},
   "outputs": [
    {
     "data": {
      "text/latex": [
       "$\\displaystyle - \\frac{A_{\\theta}{\\left(r,\\theta \\right)}}{r^{2} \\sin^{2}{\\left(\\theta \\right)}} + \\frac{2 \\frac{\\partial}{\\partial \\theta} A_{r}{\\left(r,\\theta \\right)}}{r^{2}}$"
      ],
      "text/plain": [
       "-A_{\\theta}(r, theta)/(r**2*sin(theta)**2) + 2*Derivative(A_{r}(r, theta), theta)/r**2"
      ]
     },
     "execution_count": 15,
     "metadata": {},
     "output_type": "execute_result"
    }
   ],
   "source": [
    "(lap_A[1] - geo.laplacian(A[1])).expand().simplify().expand()"
   ]
  },
  {
   "cell_type": "code",
   "execution_count": 16,
   "metadata": {},
   "outputs": [
    {
     "data": {
      "text/latex": [
       "$\\displaystyle - \\frac{A_{\\phi}{\\left(r,\\theta \\right)}}{r^{2} \\sin^{2}{\\left(\\theta \\right)}}$"
      ],
      "text/plain": [
       "-A_{\\phi}(r, theta)/(r**2*sin(theta)**2)"
      ]
     },
     "execution_count": 16,
     "metadata": {},
     "output_type": "execute_result"
    }
   ],
   "source": [
    "(lap_A[2] - geo.laplacian(A[2])).simplify().expand().simplify()"
   ]
  },
  {
   "cell_type": "code",
   "execution_count": null,
   "metadata": {},
   "outputs": [],
   "source": []
  },
  {
   "cell_type": "code",
   "execution_count": null,
   "metadata": {},
   "outputs": [],
   "source": []
  }
 ],
 "metadata": {
  "kernelspec": {
   "display_name": "GRScalar",
   "language": "python",
   "name": "python3"
  },
  "language_info": {
   "codemirror_mode": {
    "name": "ipython",
    "version": 3
   },
   "file_extension": ".py",
   "mimetype": "text/x-python",
   "name": "python",
   "nbconvert_exporter": "python",
   "pygments_lexer": "ipython3",
   "version": "3.12.2"
  }
 },
 "nbformat": 4,
 "nbformat_minor": 2
}
