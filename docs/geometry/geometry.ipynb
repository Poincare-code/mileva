{
 "cells": [
  {
   "cell_type": "markdown",
   "metadata": {},
   "source": [
    "# Geometry\n",
    "---"
   ]
  },
  {
   "cell_type": "markdown",
   "metadata": {},
   "source": [
    "## Differential operators\n",
    "---\n",
    "\n",
    "Using the `geometry` package, we can conveniently generate the expressions for differential operators in any coordinate system.\n",
    "For instance, in the xCFC scheme, we require the scalar laplacian,\n",
    "$$\n",
    "\\tilde{\\Delta} f\n",
    "$$\n",
    "and the operator,\n",
    "$$\n",
    "\\tilde{\\Delta} X^{i} \\ + \\ \\frac{1}{3} \\, \\tilde{\\nabla}^{i}\\left( \\tilde{\\nabla}_{j} X^{j} \\right)\n",
    "$$\n",
    "where the tilde indicates that we require the operators on the flat background metric. Note that the laplacian acting on a vector is not necessarily equal to the laplacian acting on the vector components!\n",
    "Using the `geometry` package, the expressions for these quatities qould be obtained as follows."
   ]
  },
  {
   "cell_type": "code",
   "execution_count": 1,
   "metadata": {},
   "outputs": [],
   "source": [
    "from sympy import simplify, expand, sin, Array, diff, symbols, Symbol, Eq, Rational, latex"
   ]
  },
  {
   "cell_type": "code",
   "execution_count": 2,
   "metadata": {},
   "outputs": [
    {
     "ename": "ModuleNotFoundError",
     "evalue": "No module named 'albert'",
     "output_type": "error",
     "traceback": [
      "\u001b[0;31m---------------------------------------------------------------------------\u001b[0m",
      "\u001b[0;31mModuleNotFoundError\u001b[0m                       Traceback (most recent call last)",
      "Cell \u001b[0;32mIn[2], line 1\u001b[0m\n\u001b[0;32m----> 1\u001b[0m \u001b[38;5;28;01mimport\u001b[39;00m \u001b[38;5;21;01malbert\u001b[39;00m\u001b[38;5;21;01m.\u001b[39;00m\u001b[38;5;21;01mgeometry\u001b[39;00m\n",
      "\u001b[0;31mModuleNotFoundError\u001b[0m: No module named 'albert'"
     ]
    }
   ],
   "source": [
    "import albert.geometry"
   ]
  },
  {
   "cell_type": "code",
   "execution_count": 1,
   "metadata": {},
   "outputs": [
    {
     "ename": "ModuleNotFoundError",
     "evalue": "No module named 'albert'",
     "output_type": "error",
     "traceback": [
      "\u001b[0;31m---------------------------------------------------------------------------\u001b[0m",
      "\u001b[0;31mModuleNotFoundError\u001b[0m                       Traceback (most recent call last)",
      "Cell \u001b[0;32mIn[1], line 2\u001b[0m\n\u001b[1;32m      1\u001b[0m \u001b[38;5;66;03m# Get the Euclidean 3D geometry in spoherical coordinates (from the examples of predefined geometries)\u001b[39;00m\n\u001b[0;32m----> 2\u001b[0m \u001b[38;5;28;01mimport\u001b[39;00m \u001b[38;5;21;01malbert\u001b[39;00m\u001b[38;5;21;01m.\u001b[39;00m\u001b[38;5;21;01mgeometry\u001b[39;00m\u001b[38;5;21;01m.\u001b[39;00m\u001b[38;5;21;01mexamples\u001b[39;00m \u001b[38;5;28;01mas\u001b[39;00m \u001b[38;5;21;01mexamples\u001b[39;00m\n\u001b[1;32m      3\u001b[0m geo \u001b[38;5;241m=\u001b[39m examples\u001b[38;5;241m.\u001b[39mEuclidean3dSph()\n",
      "\u001b[0;31mModuleNotFoundError\u001b[0m: No module named 'albert'"
     ]
    }
   ],
   "source": [
    "# Get the Euclidean 3D geometry in spoherical coordinates (from the examples of predefined geometries)\n",
    "import albert.geometry.examples as examples\n",
    "geo = examples.Euclidean3dSph()"
   ]
  },
  {
   "cell_type": "code",
   "execution_count": null,
   "metadata": {},
   "outputs": [],
   "source": []
  },
  {
   "cell_type": "code",
   "execution_count": 4,
   "metadata": {},
   "outputs": [
    {
     "ename": "NameError",
     "evalue": "name 'geo' is not defined",
     "output_type": "error",
     "traceback": [
      "\u001b[0;31m---------------------------------------------------------------------------\u001b[0m",
      "\u001b[0;31mNameError\u001b[0m                                 Traceback (most recent call last)",
      "Cell \u001b[0;32mIn[4], line 2\u001b[0m\n\u001b[1;32m      1\u001b[0m \u001b[38;5;66;03m# The metric\u001b[39;00m\n\u001b[0;32m----> 2\u001b[0m \u001b[43mgeo\u001b[49m\u001b[38;5;241m.\u001b[39mmetric\n",
      "\u001b[0;31mNameError\u001b[0m: name 'geo' is not defined"
     ]
    }
   ],
   "source": [
    "# The metric\n",
    "geo.metric"
   ]
  },
  {
   "cell_type": "code",
   "execution_count": null,
   "metadata": {},
   "outputs": [],
   "source": [
    "# Extract the coordinate symbols of the geometry\n",
    "r, theta, phi = geo.coords"
   ]
  },
  {
   "cell_type": "code",
   "execution_count": null,
   "metadata": {},
   "outputs": [
    {
     "data": {
      "text/latex": [
       "$\\displaystyle f{\\left(r,\\theta \\right)}$"
      ],
      "text/plain": [
       "f(r, theta)"
      ]
     },
     "metadata": {},
     "output_type": "display_data"
    }
   ],
   "source": [
    "# Define a scalar function f on the geometry\n",
    "# (But only of r and theta, not phi)\n",
    "f = geo.scalar_function('f', args=[r, theta])\n",
    "f"
   ]
  },
  {
   "cell_type": "code",
   "execution_count": null,
   "metadata": {},
   "outputs": [
    {
     "data": {
      "text/latex": [
       "$\\displaystyle \\left[\\begin{matrix}X^{r}{\\left(r,\\theta \\right)} & X^{\\theta}{\\left(r,\\theta \\right)} & X^{\\phi}{\\left(r,\\theta \\right)}\\end{matrix}\\right]$"
      ],
      "text/plain": [
       "[X^r(r, theta), X^theta(r, theta), X^phi(r, theta)]"
      ]
     },
     "metadata": {},
     "output_type": "display_data"
    }
   ],
   "source": [
    "# Define a vector function f on the geometry\n",
    "# (But only of r and theta, not phi)\n",
    "X = geo.vector_function('X', args=[r, theta])\n",
    "X"
   ]
  },
  {
   "cell_type": "code",
   "execution_count": null,
   "metadata": {},
   "outputs": [
    {
     "data": {
      "text/latex": [
       "$\\displaystyle \\frac{\\partial^{2}}{\\partial r^{2}} f{\\left(r,\\theta \\right)} + \\frac{2 \\frac{\\partial}{\\partial r} f{\\left(r,\\theta \\right)}}{r} + \\frac{\\frac{\\partial^{2}}{\\partial \\theta^{2}} f{\\left(r,\\theta \\right)}}{r^{2}} + \\frac{\\frac{\\partial}{\\partial \\theta} f{\\left(r,\\theta \\right)}}{r^{2} \\tan{\\left(\\theta \\right)}}$"
      ],
      "text/plain": [
       "Derivative(f(r, theta), (r, 2)) + 2*Derivative(f(r, theta), r)/r + Derivative(f(r, theta), (theta, 2))/r**2 + Derivative(f(r, theta), theta)/(r**2*tan(theta))"
      ]
     },
     "metadata": {},
     "output_type": "display_data"
    }
   ],
   "source": [
    "# Expression of the laplacian of a scalar function f\n",
    "lap_f = geo.laplacian(f)\n",
    "lap_f.expand()"
   ]
  },
  {
   "cell_type": "code",
   "execution_count": null,
   "metadata": {},
   "outputs": [
    {
     "data": {
      "text/latex": [
       "$\\displaystyle \\left[\\begin{matrix}\\frac{r^{3} \\frac{\\partial^{2}}{\\partial r^{2}} X^{r}{\\left(r,\\theta \\right)} + 2 r^{2} \\frac{\\partial}{\\partial r} X^{r}{\\left(r,\\theta \\right)} - 2 r X^{r}{\\left(r,\\theta \\right)} + r \\frac{\\partial^{2}}{\\partial \\theta^{2}} X^{r}{\\left(r,\\theta \\right)} + \\frac{r \\frac{\\partial}{\\partial \\theta} X^{r}{\\left(r,\\theta \\right)}}{\\tan{\\left(\\theta \\right)}} - \\frac{2 X^{\\theta}{\\left(r,\\theta \\right)}}{\\tan{\\left(\\theta \\right)}} - 2 \\frac{\\partial}{\\partial \\theta} X^{\\theta}{\\left(r,\\theta \\right)}}{r^{3}} & \\frac{r^{2} \\frac{\\partial^{2}}{\\partial r^{2}} X^{\\theta}{\\left(r,\\theta \\right)} + 2 r \\frac{\\partial}{\\partial \\theta} X^{r}{\\left(r,\\theta \\right)} - \\frac{X^{\\theta}{\\left(r,\\theta \\right)}}{\\sin^{2}{\\left(\\theta \\right)}} + \\frac{\\partial^{2}}{\\partial \\theta^{2}} X^{\\theta}{\\left(r,\\theta \\right)} + \\frac{\\frac{\\partial}{\\partial \\theta} X^{\\theta}{\\left(r,\\theta \\right)}}{\\tan{\\left(\\theta \\right)}}}{r^{2}} & \\frac{r^{2} \\frac{\\partial^{2}}{\\partial r^{2}} X^{\\phi}{\\left(r,\\theta \\right)} + \\frac{\\partial^{2}}{\\partial \\theta^{2}} X^{\\phi}{\\left(r,\\theta \\right)} + \\frac{\\frac{\\partial}{\\partial \\theta} X^{\\phi}{\\left(r,\\theta \\right)}}{\\tan^{3}{\\left(\\theta \\right)}} - \\frac{\\cos{\\left(\\theta \\right)} \\frac{\\partial}{\\partial \\theta} X^{\\phi}{\\left(r,\\theta \\right)}}{\\sin^{3}{\\left(\\theta \\right)}}}{r^{2}}\\end{matrix}\\right]$"
      ],
      "text/plain": [
       "[(r**3*Derivative(X^r(r, theta), (r, 2)) + 2*r**2*Derivative(X^r(r, theta), r) - 2*r*X^r(r, theta) + r*Derivative(X^r(r, theta), (theta, 2)) + r*Derivative(X^r(r, theta), theta)/tan(theta) - 2*X^theta(r, theta)/tan(theta) - 2*Derivative(X^theta(r, theta), theta))/r**3, (r**2*Derivative(X^theta(r, theta), (r, 2)) + 2*r*Derivative(X^r(r, theta), theta) - X^theta(r, theta)/sin(theta)**2 + Derivative(X^theta(r, theta), (theta, 2)) + Derivative(X^theta(r, theta), theta)/tan(theta))/r**2, (r**2*Derivative(X^phi(r, theta), (r, 2)) + Derivative(X^phi(r, theta), (theta, 2)) + Derivative(X^phi(r, theta), theta)/tan(theta)**3 - cos(theta)*Derivative(X^phi(r, theta), theta)/sin(theta)**3)/r**2]"
      ]
     },
     "metadata": {},
     "output_type": "display_data"
    }
   ],
   "source": [
    "# Expression of the laplacian of a vector function X\n",
    "lap_X = geo.laplacian(X)\n",
    "lap_X"
   ]
  },
  {
   "cell_type": "markdown",
   "metadata": {},
   "source": [
    "In `gmunu` the metric equations are solved in an orthonormal frame. The transformation can be achieved by making the followijng substitution."
   ]
  },
  {
   "cell_type": "code",
   "execution_count": null,
   "metadata": {},
   "outputs": [],
   "source": [
    "A = geo.vector_function('A', args=[r, theta])\n",
    "\n",
    "orthonormal_subs = {\n",
    "    X[0]:   A[0],\n",
    "    X[1]: r*A[1],\n",
    "    X[2]: r*sin(theta)*A[2],\n",
    "}"
   ]
  },
  {
   "cell_type": "markdown",
   "metadata": {},
   "source": [
    "However, note that the components of the resulting vector laplacian also have to be adjusted to the new basis vectors."
   ]
  },
  {
   "cell_type": "code",
   "execution_count": null,
   "metadata": {},
   "outputs": [],
   "source": [
    "lap_A = Array([\n",
    "    lap_X[0].subs(orthonormal_subs),\n",
    "    lap_X[1].subs(orthonormal_subs) / r,\n",
    "    lap_X[2].subs(orthonormal_subs) / (r*sin(theta))\n",
    "])"
   ]
  },
  {
   "cell_type": "markdown",
   "metadata": {},
   "source": [
    "The components of the laplacian of a vector function (with scalar laplacian of the component subtracted) read:"
   ]
  },
  {
   "cell_type": "code",
   "execution_count": null,
   "metadata": {},
   "outputs": [
    {
     "data": {
      "text/latex": [
       "$\\displaystyle - \\frac{2 A^{r}{\\left(r,\\theta \\right)}}{r^{2}} - \\frac{2 A^{\\theta}{\\left(r,\\theta \\right)}}{r^{2} \\tan{\\left(\\theta \\right)}} - \\frac{2 \\frac{\\partial}{\\partial \\theta} r A^{\\theta}{\\left(r,\\theta \\right)}}{r^{3}}$"
      ],
      "text/plain": [
       "-2*A^r(r, theta)/r**2 - 2*A^theta(r, theta)/(r**2*tan(theta)) - 2*Derivative(r*A^theta(r, theta), theta)/r**3"
      ]
     },
     "metadata": {},
     "output_type": "display_data"
    }
   ],
   "source": [
    "(lap_A[0] - geo.laplacian(A[0])).expand(simplify=True)"
   ]
  },
  {
   "cell_type": "code",
   "execution_count": null,
   "metadata": {},
   "outputs": [
    {
     "data": {
      "text/latex": [
       "$\\displaystyle - \\frac{A^{\\theta}{\\left(r,\\theta \\right)}}{r^{2} \\sin^{2}{\\left(\\theta \\right)}} + \\frac{2 \\frac{\\partial}{\\partial \\theta} A^{r}{\\left(r,\\theta \\right)}}{r^{2}}$"
      ],
      "text/plain": [
       "-A^theta(r, theta)/(r**2*sin(theta)**2) + 2*Derivative(A^r(r, theta), theta)/r**2"
      ]
     },
     "metadata": {},
     "output_type": "display_data"
    }
   ],
   "source": [
    "(lap_A[1] - geo.laplacian(A[1])).expand().simplify().expand()"
   ]
  },
  {
   "cell_type": "code",
   "execution_count": null,
   "metadata": {},
   "outputs": [
    {
     "data": {
      "text/latex": [
       "$\\displaystyle - \\frac{A^{\\phi}{\\left(r,\\theta \\right)}}{r^{2} \\sin^{2}{\\left(\\theta \\right)}}$"
      ],
      "text/plain": [
       "-A^phi(r, theta)/(r**2*sin(theta)**2)"
      ]
     },
     "metadata": {},
     "output_type": "display_data"
    }
   ],
   "source": [
    "(lap_A[2] - geo.laplacian(A[2])).simplify().expand().simplify()"
   ]
  }
 ],
 "metadata": {
  "kernelspec": {
   "display_name": "grhd",
   "language": "python",
   "name": "python3"
  },
  "language_info": {
   "codemirror_mode": {
    "name": "ipython",
    "version": 3
   },
   "file_extension": ".py",
   "mimetype": "text/x-python",
   "name": "python",
   "nbconvert_exporter": "python",
   "pygments_lexer": "ipython3",
   "version": "3.12.4"
  }
 },
 "nbformat": 4,
 "nbformat_minor": 2
}
